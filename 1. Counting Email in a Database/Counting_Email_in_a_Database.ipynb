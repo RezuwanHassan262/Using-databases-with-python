{
  "nbformat": 4,
  "nbformat_minor": 0,
  "metadata": {
    "colab": {
      "name": "Counting Email in a Database.ipynb",
      "provenance": []
    },
    "kernelspec": {
      "name": "python3",
      "display_name": "Python 3"
    },
    "language_info": {
      "name": "python"
    }
  },
  "cells": [
    {
      "cell_type": "code",
      "metadata": {
        "id": "sZ3T6NGCcTDh"
      },
      "source": [
        "!pip install -U -q PyDrive\n",
        "from pydrive.auth import GoogleAuth\n",
        "from pydrive.drive import GoogleDrive\n",
        "from google.colab import auth\n",
        "from oauth2client.client import GoogleCredentials"
      ],
      "execution_count": 3,
      "outputs": []
    },
    {
      "cell_type": "code",
      "metadata": {
        "id": "wV4K4w8schns"
      },
      "source": [
        "auth.authenticate_user()\n",
        "gauth = GoogleAuth()\n",
        "gauth.credentials = GoogleCredentials.get_application_default()\n",
        "drive = GoogleDrive(gauth)"
      ],
      "execution_count": 4,
      "outputs": []
    },
    {
      "cell_type": "code",
      "metadata": {
        "id": "FafPuXq0ctGE"
      },
      "source": [
        "downloaded = drive.CreateFile({'id':'1N4g702Gs16wQG9LUemzCufuX-PfsYqYz'}) # replace the id with id of file you want to access\n",
        "downloaded.GetContentFile('mbox.txt')"
      ],
      "execution_count": 5,
      "outputs": []
    },
    {
      "cell_type": "code",
      "metadata": {
        "colab": {
          "base_uri": "https://localhost:8080/"
        },
        "id": "zHw5lZTWVLLJ",
        "outputId": "cae004b8-1bfb-4765-f96d-e4fa833fecb6"
      },
      "source": [
        "# You can use this code as a starting point for your application: http://www.py4e.com/code3/emaildb.py.\n",
        "# The data file for this application is the same as in previous assignments: http://www.py4e.com/code3/mbox.txt.\n",
        "\n",
        "import sqlite3\n",
        "conn = sqlite3.connect('T2.sqlite')\n",
        "cur = conn.cursor()\n",
        "cur.execute('DROP TABLE IF EXISTS Counts')\n",
        "cur.execute('''\n",
        "CREATE TABLE Counts (org TEXT, count INTEGER)''')\n",
        " \n",
        "fname = input('Enter file name: ')\n",
        "if (len(fname) < 1): fname = 'mbox.txt'\n",
        "fh = open(fname)\n",
        "for line in fh:\n",
        "    if not line.startswith('From: '): continue\n",
        "    pieces = line.split()\n",
        "    email = pieces[1].split('@')\n",
        "    p = email[1]\n",
        "    cur.execute('SELECT count FROM Counts WHERE org = ? ', (p,))\n",
        "    row = cur.fetchone()\n",
        "    if row is None:\n",
        "        cur.execute('''INSERT INTO Counts (org, count)\n",
        "                VALUES (?, 1)''', (p,))\n",
        "    else:\n",
        "        cur.execute('UPDATE Counts SET count = count + 1 WHERE org = ?',\n",
        "                    (p,))\n",
        "    conn.commit()\n",
        " \n",
        "sqlstr = 'SELECT org, count FROM Counts ORDER BY count DESC'\n",
        "for row in cur.execute(sqlstr):\n",
        "    print(str(row[0]), row[1])\n",
        "cur.close()"
      ],
      "execution_count": 6,
      "outputs": [
        {
          "output_type": "stream",
          "text": [
            "Enter file name: mbox.txt\n",
            "iupui.edu 536\n",
            "umich.edu 491\n",
            "indiana.edu 178\n",
            "caret.cam.ac.uk 157\n",
            "vt.edu 110\n",
            "uct.ac.za 96\n",
            "media.berkeley.edu 56\n",
            "ufp.pt 28\n",
            "gmail.com 25\n",
            "et.gatech.edu 17\n",
            "txstate.edu 17\n",
            "whitman.edu 17\n",
            "lancaster.ac.uk 14\n",
            "bu.edu 14\n",
            "stanford.edu 12\n",
            "unicon.net 9\n",
            "loi.nl 9\n",
            "rsmart.com 8\n",
            "ucdavis.edu 1\n",
            "fhda.edu 1\n",
            "utoronto.ca 1\n"
          ],
          "name": "stdout"
        }
      ]
    },
    {
      "cell_type": "code",
      "metadata": {
        "id": "EIs0j3zPVL_z"
      },
      "source": [
        ""
      ],
      "execution_count": null,
      "outputs": []
    }
  ]
}